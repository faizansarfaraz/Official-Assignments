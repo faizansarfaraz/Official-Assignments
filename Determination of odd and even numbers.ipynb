{
 "cells": [
  {
   "cell_type": "code",
   "execution_count": null,
   "metadata": {},
   "outputs": [],
   "source": [
    "print(\"Determination of odd and even numbers\")\n",
    "print(\"=====================================\")\n",
    "print()\n",
    "number=int(input(\"Enter Number:\"))\n",
    "x = number % 2\n",
    "if x == 0:\n",
    "    print(number, \"is even.\")\n",
    "if x > 0:\n",
    "    print(number, \"is odd\")\n",
    "if x < 0:\n",
    "    print(number,\"is odd\")"
   ]
  }
 ],
 "metadata": {
  "kernelspec": {
   "display_name": "Python 3",
   "language": "python",
   "name": "python3"
  },
  "language_info": {
   "codemirror_mode": {
    "name": "ipython",
    "version": 3
   },
   "file_extension": ".py",
   "mimetype": "text/x-python",
   "name": "python",
   "nbconvert_exporter": "python",
   "pygments_lexer": "ipython3",
   "version": "3.7.3"
  }
 },
 "nbformat": 4,
 "nbformat_minor": 2
}

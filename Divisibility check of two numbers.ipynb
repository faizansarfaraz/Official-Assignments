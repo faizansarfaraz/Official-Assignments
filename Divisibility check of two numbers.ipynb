{
 "cells": [
  {
   "cell_type": "code",
   "execution_count": 4,
   "metadata": {},
   "outputs": [
    {
     "name": "stdout",
     "output_type": "stream",
     "text": [
      "Divisibility check of two numbers\n",
      "---------------------------------\n",
      "\n",
      "Enter Numinator:5766877542\n",
      "Enter Denominator:5685768\n",
      "\n",
      "Number 5766877542 is not divisible by 5685768\n"
     ]
    }
   ],
   "source": [
    "print(\"Divisibility check of two numbers\")\n",
    "print(\"---------------------------------\")\n",
    "print()\n",
    "numinator = int(input(\"Enter Numinator:\"))\n",
    "denominator = int(input(\"Enter Denominator:\"))\n",
    "print()\n",
    "remainder = numinator % denominator\n",
    "if remainder==0:\n",
    "    print(\"Number\", numinator, \"is completely divisible by\", denominator)\n",
    "if remainder > 0:\n",
    "    print(\"Number\", numinator, \"is not divisible by\", denominator)\n",
    "if remainder < 0:\n",
    "    print(\"Number\", numinator, \"is not divisible by\", denominator)"
   ]
  },
  {
   "cell_type": "code",
   "execution_count": null,
   "metadata": {},
   "outputs": [],
   "source": []
  }
 ],
 "metadata": {
  "kernelspec": {
   "display_name": "Python 3",
   "language": "python",
   "name": "python3"
  },
  "language_info": {
   "codemirror_mode": {
    "name": "ipython",
    "version": 3
   },
   "file_extension": ".py",
   "mimetype": "text/x-python",
   "name": "python",
   "nbconvert_exporter": "python",
   "pygments_lexer": "ipython3",
   "version": "3.7.3"
  }
 },
 "nbformat": 4,
 "nbformat_minor": 2
}

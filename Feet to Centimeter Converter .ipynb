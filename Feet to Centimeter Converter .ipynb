{
 "cells": [
  {
   "cell_type": "code",
   "execution_count": 3,
   "metadata": {},
   "outputs": [
    {
     "name": "stdout",
     "output_type": "stream",
     "text": [
      "Input your height: \n",
      "Feet: 5\n",
      "Inches: 4\n",
      "Your height is : 162 cm.\n"
     ]
    }
   ],
   "source": [
    "print(\"Input your height: \")\n",
    "h_ft = int(input(\"Feet: \"))\n",
    "h_inch = int(input(\"Inches: \"))\n",
    "\n",
    "h_inch += h_ft * 12\n",
    "h_cm = round(h_inch * 2.54, 1)\n",
    "\n",
    "print(\"Your height is : %d cm.\" % h_cm)\n"
   ]
  },
  {
   "cell_type": "code",
   "execution_count": null,
   "metadata": {},
   "outputs": [],
   "source": []
  },
  {
   "cell_type": "code",
   "execution_count": null,
   "metadata": {},
   "outputs": [],
   "source": []
  }
 ],
 "metadata": {
  "kernelspec": {
   "display_name": "Python 3",
   "language": "python",
   "name": "python3"
  },
  "language_info": {
   "codemirror_mode": {
    "name": "ipython",
    "version": 3
   },
   "file_extension": ".py",
   "mimetype": "text/x-python",
   "name": "python",
   "nbconvert_exporter": "python",
   "pygments_lexer": "ipython3",
   "version": "3.7.3"
  }
 },
 "nbformat": 4,
 "nbformat_minor": 2
}

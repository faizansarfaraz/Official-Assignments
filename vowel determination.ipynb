{
 "cells": [
  {
   "cell_type": "code",
   "execution_count": null,
   "metadata": {},
   "outputs": [],
   "source": [
    "print(\"Determaination of a vowel\")\n",
    "print(\"=========================\")\n",
    "print()\n",
    "alphabet=str(input(\"Enter an alphabet:\"))\n",
    "if alphabet == \"a\":\n",
    "    print(alphabet, \"is a vowel.\")\n",
    "if alphabet == \"e\":\n",
    "    print(alphabet, \"is a vowel.\")\n",
    "if alphabet == \"i\":\n",
    "    print(alphabet, \"is a vowel.\")\n",
    "if alphabet == \"o\":\n",
    "    print(alphabet, \"is a vowel.\")\n",
    "if alphabet == \"u\":\n",
    "    print(alphabet, \"is a vowel.\")\n",
    "else:\n",
    "    print(alphabet, \"is not a vowel.\")"
   ]
  }
 ],
 "metadata": {
  "kernelspec": {
   "display_name": "Python 3",
   "language": "python",
   "name": "python3"
  },
  "language_info": {
   "codemirror_mode": {
    "name": "ipython",
    "version": 3
   },
   "file_extension": ".py",
   "mimetype": "text/x-python",
   "name": "python",
   "nbconvert_exporter": "python",
   "pygments_lexer": "ipython3",
   "version": "3.7.3"
  }
 },
 "nbformat": 4,
 "nbformat_minor": 2
}
